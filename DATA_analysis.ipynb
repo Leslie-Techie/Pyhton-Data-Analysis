{
  "nbformat": 4,
  "nbformat_minor": 0,
  "metadata": {
    "colab": {
      "provenance": [],
      "name": "DATA_analysis.ipynb",
      "toc_visible": true,
      "authorship_tag": "ABX9TyPeAUKO+LyuA/v7JjGkybR8",
      "include_colab_link": true
    },
    "kernelspec": {
      "name": "python3",
      "display_name": "Python 3"
    },
    "language_info": {
      "name": "python"
    }
  },
  "cells": [
    {
      "cell_type": "markdown",
      "metadata": {
        "id": "view-in-github",
        "colab_type": "text"
      },
      "source": [
        "<a href=\"https://colab.research.google.com/github/Leslie-Techie/Python-Data-Analysis/blob/main/DATA_analysis.ipynb\" target=\"_parent\"><img src=\"https://colab.research.google.com/assets/colab-badge.svg\" alt=\"Open In Colab\"/></a>"
      ]
    },
    {
      "cell_type": "markdown",
      "source": [
        "Importing  Libraries"
      ],
      "metadata": {
        "id": "X0ZMgMu1T9FO"
      }
    },
    {
      "cell_type": "code",
      "execution_count": null,
      "metadata": {
        "id": "Ck3YZgT6Qwad"
      },
      "outputs": [],
      "source": [
        "import pandas as pd\n",
        "import matplotlib.pyplot as plt\n",
        "import seaborn as sns"
      ]
    },
    {
      "cell_type": "markdown",
      "source": [
        "Now, we will read the dataset into a Pandas dataframe."
      ],
      "metadata": {
        "id": "LV0zhgweUEDe"
      }
    },
    {
      "cell_type": "code",
      "source": [
        "df = pd.read_csv('/dataset/IT Salary Survey EU  2020.csv')"
      ],
      "metadata": {
        "id": "YJPrrzVpRm9n"
      },
      "execution_count": null,
      "outputs": []
    },
    {
      "cell_type": "markdown",
      "source": [
        "We will perform EDA on the dataset by answering the question .What are the top 10 countries by the number of respondents?"
      ],
      "metadata": {
        "id": "g8ahLAvTUKst"
      }
    },
    {
      "cell_type": "code",
      "source": [
        "City_count = df['City'].value_counts().head(10)\n",
        "plt.figure(figsize=(10,5))\n",
        "sns.barplot(City_count.index, City_count.values)\n",
        "plt.xticks(rotation=90)\n",
        "plt.xlabel('City')\n",
        "plt.ylabel('Number of Respondents')\n",
        "plt.title('Top 10 Cities by Number of Respondents')\n",
        "plt.show()"
      ],
      "metadata": {
        "colab": {
          "base_uri": "https://localhost:8080/",
          "height": 453
        },
        "id": "wHsivGhQUe4G",
        "outputId": "b6e19987-84cc-4991-818f-39b6a58fbe93"
      },
      "execution_count": null,
      "outputs": [
        {
          "output_type": "stream",
          "name": "stderr",
          "text": [
            "/usr/local/lib/python3.8/dist-packages/seaborn/_decorators.py:36: FutureWarning: Pass the following variables as keyword args: x, y. From version 0.12, the only valid positional argument will be `data`, and passing other arguments without an explicit keyword will result in an error or misinterpretation.\n",
            "  warnings.warn(\n"
          ]
        },
        {
          "output_type": "display_data",
          "data": {
            "text/plain": [
              "<Figure size 720x360 with 1 Axes>"
            ],
            "image/png": "[encoded data removed]"
          },
          "metadata": {
            "needs_background": "light"
          }
        }
      ]
    },
    {
      "cell_type": "markdown",
      "source": [
        "The output will be a bar plot showing the top 10 cities by the number of respondents."
      ],
      "metadata": {
        "id": "2_33jUVTUvBi"
      }
    }
  ]
}